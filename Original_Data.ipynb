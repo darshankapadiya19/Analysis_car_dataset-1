{
  "nbformat": 4,
  "nbformat_minor": 0,
  "metadata": {
    "colab": {
      "name": "Original_Data.ipynb",
      "provenance": [],
      "collapsed_sections": []
    },
    "kernelspec": {
      "display_name": "Python 3",
      "name": "python3"
    },
    "language_info": {
      "name": "python"
    }
  },
  "cells": [
    {
      "cell_type": "code",
      "metadata": {
        "colab": {
          "base_uri": "https://localhost:8080/"
        },
        "id": "it9GhVJUkrl-",
        "outputId": "a35589e0-7ec8-48a2-f6bb-7627eeb23c9b"
      },
      "source": [
        "import numpy as np\n",
        "import pandas as pd\n",
        "import statistics as stats\n",
        "import matplotlib.pyplot as plt\n",
        "# installing libraries not included in google colab by default\n",
        "!pip install --upgrade category_encoders\n",
        "import category_encoders as ce \n",
        "from sklearn.model_selection import train_test_split\n",
        "from sklearn.model_selection import KFold, StratifiedKFold, train_test_split, cross_validate, cross_val_score\n",
        "from sklearn.linear_model import LogisticRegression\n",
        "from sklearn.tree import DecisionTreeClassifier\n",
        "from sklearn.ensemble import RandomForestClassifier\n",
        "from sklearn.metrics import recall_score, precision_score, accuracy_score, plot_confusion_matrix, classification_report, f1_score\n",
        "from sklearn import metrics\n",
        "from sklearn.model_selection import GridSearchCV, ShuffleSplit\n",
        "import xgboost as xgb\n",
        "\n",
        "\n",
        "# importing data\n",
        "data = pd.read_csv(\"/content/car_sampled.csv\",header=None)\n",
        "data = data.sample(frac=1).reset_index(drop = True)\n",
        "# data.head()\n",
        "\n",
        "# Changing column names for betterment\n",
        "col_names = ['buying','maint','doors','persons','lug_boot','safety','class']\n",
        "data.columns = col_names"
      ],
      "execution_count": null,
      "outputs": [
        {
          "output_type": "stream",
          "name": "stdout",
          "text": [
            "Requirement already satisfied: category_encoders in /usr/local/lib/python3.7/dist-packages (2.3.0)\n",
            "Requirement already satisfied: patsy>=0.5.1 in /usr/local/lib/python3.7/dist-packages (from category_encoders) (0.5.2)\n",
            "Requirement already satisfied: pandas>=0.21.1 in /usr/local/lib/python3.7/dist-packages (from category_encoders) (1.1.5)\n",
            "Requirement already satisfied: scipy>=1.0.0 in /usr/local/lib/python3.7/dist-packages (from category_encoders) (1.4.1)\n",
            "Requirement already satisfied: statsmodels>=0.9.0 in /usr/local/lib/python3.7/dist-packages (from category_encoders) (0.10.2)\n",
            "Requirement already satisfied: scikit-learn>=0.20.0 in /usr/local/lib/python3.7/dist-packages (from category_encoders) (1.0.1)\n",
            "Requirement already satisfied: numpy>=1.14.0 in /usr/local/lib/python3.7/dist-packages (from category_encoders) (1.19.5)\n",
            "Requirement already satisfied: pytz>=2017.2 in /usr/local/lib/python3.7/dist-packages (from pandas>=0.21.1->category_encoders) (2018.9)\n",
            "Requirement already satisfied: python-dateutil>=2.7.3 in /usr/local/lib/python3.7/dist-packages (from pandas>=0.21.1->category_encoders) (2.8.2)\n",
            "Requirement already satisfied: six in /usr/local/lib/python3.7/dist-packages (from patsy>=0.5.1->category_encoders) (1.15.0)\n",
            "Requirement already satisfied: joblib>=0.11 in /usr/local/lib/python3.7/dist-packages (from scikit-learn>=0.20.0->category_encoders) (1.1.0)\n",
            "Requirement already satisfied: threadpoolctl>=2.0.0 in /usr/local/lib/python3.7/dist-packages (from scikit-learn>=0.20.0->category_encoders) (3.0.0)\n"
          ]
        }
      ]
    },
    {
      "cell_type": "code",
      "metadata": {
        "id": "A5E5wZy4m1kt",
        "colab": {
          "base_uri": "https://localhost:8080/"
        },
        "outputId": "20639ede-f33f-4a80-b730-bcd7e468a47d"
      },
      "source": [
        "# General data information\n",
        "data.info()\n",
        "\n",
        "# Unique values for each attributes and levels for the same.\n",
        "print(\"---------------- Unique values for each attributes ----------------\")\n",
        "def show(data):\n",
        "  for i in data.columns[1:]:\n",
        "    print(\"Feature: {} with {} Levels\".format(i,data[i].unique()))\n",
        "\n",
        "show(data)\n",
        "\n",
        "# Checking for null values\n",
        "print(\"-------------------- Checking for null values ---------------------\")\n",
        "data.isnull().sum()\n",
        "\n",
        "# print(\"----------------- Number of instances per class -------------------\")\n"
      ],
      "execution_count": null,
      "outputs": [
        {
          "output_type": "stream",
          "name": "stdout",
          "text": [
            "<class 'pandas.core.frame.DataFrame'>\n",
            "RangeIndex: 2195 entries, 0 to 2194\n",
            "Data columns (total 7 columns):\n",
            " #   Column    Non-Null Count  Dtype \n",
            "---  ------    --------------  ----- \n",
            " 0   buying    2195 non-null   object\n",
            " 1   maint     2195 non-null   object\n",
            " 2   doors     2195 non-null   object\n",
            " 3   persons   2195 non-null   object\n",
            " 4   lug_boot  2195 non-null   object\n",
            " 5   safety    2195 non-null   object\n",
            " 6   class     2195 non-null   object\n",
            "dtypes: object(7)\n",
            "memory usage: 120.2+ KB\n",
            "---------------- Unique values for each attributes ----------------\n",
            "Feature: maint with ['high' 'low' 'vhigh' 'med'] Levels\n",
            "Feature: doors with ['5more' '3' '2' '4'] Levels\n",
            "Feature: persons with ['more' '2' '4'] Levels\n",
            "Feature: lug_boot with ['small' 'big' 'med'] Levels\n",
            "Feature: safety with ['med' 'low' 'high'] Levels\n",
            "Feature: class with ['unacc' 'acc' 'vgood' 'good'] Levels\n",
            "-------------------- Checking for null values ---------------------\n"
          ]
        },
        {
          "output_type": "execute_result",
          "data": {
            "text/plain": [
              "buying      0\n",
              "maint       0\n",
              "doors       0\n",
              "persons     0\n",
              "lug_boot    0\n",
              "safety      0\n",
              "class       0\n",
              "dtype: int64"
            ]
          },
          "metadata": {},
          "execution_count": 18
        }
      ]
    },
    {
      "cell_type": "markdown",
      "metadata": {
        "id": "WJS2lmMYoePo"
      },
      "source": [
        "Here we are converting ordinal data in to numeric values."
      ]
    },
    {
      "cell_type": "code",
      "metadata": {
        "id": "ZaMG-syfngXq",
        "colab": {
          "base_uri": "https://localhost:8080/",
          "height": 206
        },
        "outputId": "d7cbfb67-a89a-451a-adef-522a01b1e5f6"
      },
      "source": [
        "\n",
        "encoder = ce.OrdinalEncoder(cols = ['buying','maint','doors','persons','lug_boot','safety','class'])\n",
        "data = encoder.fit_transform(data)\n",
        "data.head()"
      ],
      "execution_count": null,
      "outputs": [
        {
          "output_type": "execute_result",
          "data": {
            "text/html": [
              "<div>\n",
              "<style scoped>\n",
              "    .dataframe tbody tr th:only-of-type {\n",
              "        vertical-align: middle;\n",
              "    }\n",
              "\n",
              "    .dataframe tbody tr th {\n",
              "        vertical-align: top;\n",
              "    }\n",
              "\n",
              "    .dataframe thead th {\n",
              "        text-align: right;\n",
              "    }\n",
              "</style>\n",
              "<table border=\"1\" class=\"dataframe\">\n",
              "  <thead>\n",
              "    <tr style=\"text-align: right;\">\n",
              "      <th></th>\n",
              "      <th>buying</th>\n",
              "      <th>maint</th>\n",
              "      <th>doors</th>\n",
              "      <th>persons</th>\n",
              "      <th>lug_boot</th>\n",
              "      <th>safety</th>\n",
              "      <th>class</th>\n",
              "    </tr>\n",
              "  </thead>\n",
              "  <tbody>\n",
              "    <tr>\n",
              "      <th>0</th>\n",
              "      <td>1</td>\n",
              "      <td>1</td>\n",
              "      <td>1</td>\n",
              "      <td>1</td>\n",
              "      <td>1</td>\n",
              "      <td>1</td>\n",
              "      <td>1</td>\n",
              "    </tr>\n",
              "    <tr>\n",
              "      <th>1</th>\n",
              "      <td>2</td>\n",
              "      <td>1</td>\n",
              "      <td>2</td>\n",
              "      <td>2</td>\n",
              "      <td>1</td>\n",
              "      <td>2</td>\n",
              "      <td>1</td>\n",
              "    </tr>\n",
              "    <tr>\n",
              "      <th>2</th>\n",
              "      <td>2</td>\n",
              "      <td>2</td>\n",
              "      <td>3</td>\n",
              "      <td>3</td>\n",
              "      <td>1</td>\n",
              "      <td>2</td>\n",
              "      <td>1</td>\n",
              "    </tr>\n",
              "    <tr>\n",
              "      <th>3</th>\n",
              "      <td>2</td>\n",
              "      <td>3</td>\n",
              "      <td>3</td>\n",
              "      <td>3</td>\n",
              "      <td>1</td>\n",
              "      <td>2</td>\n",
              "      <td>1</td>\n",
              "    </tr>\n",
              "    <tr>\n",
              "      <th>4</th>\n",
              "      <td>3</td>\n",
              "      <td>3</td>\n",
              "      <td>2</td>\n",
              "      <td>3</td>\n",
              "      <td>2</td>\n",
              "      <td>2</td>\n",
              "      <td>2</td>\n",
              "    </tr>\n",
              "  </tbody>\n",
              "</table>\n",
              "</div>"
            ],
            "text/plain": [
              "   buying  maint  doors  persons  lug_boot  safety  class\n",
              "0       1      1      1        1         1       1      1\n",
              "1       2      1      2        2         1       2      1\n",
              "2       2      2      3        3         1       2      1\n",
              "3       2      3      3        3         1       2      1\n",
              "4       3      3      2        3         2       2      2"
            ]
          },
          "metadata": {},
          "execution_count": 19
        }
      ]
    },
    {
      "cell_type": "code",
      "metadata": {
        "id": "IZiKtI7SqEq8"
      },
      "source": [
        "x = data.drop(['class'], axis = 1)\n",
        "y = data['class']\n",
        "\n",
        "x_train, x_test, y_train, y_test = train_test_split(x, y, test_size = 0.35, random_state = 48)"
      ],
      "execution_count": null,
      "outputs": []
    },
    {
      "cell_type": "code",
      "metadata": {
        "id": "2UCMa6D84Cig"
      },
      "source": [
        "############### Making Validation Function Universal ############\n",
        "def validation(model, x, y):\n",
        "  #accuracy = []\n",
        "  # K = input('Enter K for KFold cross validation : ')\n",
        "  # K = int(K)\n",
        "  K = 10\n",
        "  #kfold = KFold(n_splits = K)\n",
        "  #from sklearn.model_selection import ShuffleSplit, LeaveOneOut\n",
        "#  for i, score in enumerate(cross_val_score(model, x,y, cv=kfold)):\n",
        " #   accuracy.append(score)\n",
        "\n",
        "  #print(\"The average accuracy with\", K, \"Fold Cross Validation is\", stats.mean(accuracy))\n",
        "  print(\"---------------------------------------------------------------------------------------------\")\n",
        "\n",
        "  print(\"Shuffle split :  In this method, number of splits = \", K,  \"will be generated and in each split, test size will be\", (1/K), \"of the total dataset\")\n",
        "\n",
        "  accuracy = []\n",
        "  cv = ShuffleSplit(n_splits=K, test_size=(float(1/K)), random_state=48)\n",
        "\n",
        "  for i, score in enumerate(cross_val_score(model, x, y, cv=cv)):\n",
        "    accuracy.append(score)\n",
        "\n",
        "  print(\"The average accuracy with\", K, \"Fold Shuffled Cross Validation is\", stats.mean(accuracy))\n",
        "  print(\"---------------------------------------------------------------------------------------------\")\n",
        "\n",
        "  # print(\"Leave One Out corss validation : accuracy with leave one out validation\")\n",
        "  # cv = LeaveOneOut()\n",
        "  # #cv = ShuffleSplit(n_splits=x.shape[0], test_size=0.3, random_state=0)\n",
        "  # for i, score in enumerate(cross_val_score(lr, x, y, cv=cv)):\n",
        "  #   accuracy.append(score)\n",
        "\n",
        "  # print(\"The average accuracy with Leave One Out Cross Validation is\", stats.mean(accuracy))\n"
      ],
      "execution_count": null,
      "outputs": []
    },
    {
      "cell_type": "markdown",
      "metadata": {
        "id": "TT8rJx__u5jh"
      },
      "source": [
        "**Logistic regression**"
      ]
    },
    {
      "cell_type": "code",
      "metadata": {
        "id": "gezBN-K6qYgJ",
        "colab": {
          "base_uri": "https://localhost:8080/"
        },
        "outputId": "e9bf85d6-4634-49c2-d54a-2401065292d2"
      },
      "source": [
        "lr = LogisticRegression(max_iter = 1000)\n",
        "lr.fit(x_train,y_train)\n",
        "\n",
        "yp_train = lr.predict(x_train)\n",
        "yp_test = lr.predict(x_test)\n",
        "\n",
        "from sklearn import metrics\n",
        "print(\"Accuracy:\",metrics.accuracy_score(y_test, yp_test))\n",
        "from sklearn.metrics import classification_report,confusion_matrix\n",
        "print(confusion_matrix(y_test,yp_test))\n",
        "print(classification_report(y_test,yp_test))\n",
        "\n",
        "\n",
        "########################  VALIDATION ######################\n",
        "import statistics as stats\n",
        "validation(lr, x, y)\n",
        "# accuracy = []\n",
        "# K = input('Enter K for KFold cross validation')\n",
        "# K = int(K)\n",
        "# kfold = KFold(n_splits = K)\n",
        "# from sklearn.model_selection import ShuffleSplit, LeaveOneOut\n",
        "# for i, score in enumerate(cross_val_score(lr, x,y, cv=kfold)):\n",
        "#     accuracy.append(score)\n",
        "\n",
        "# print(\"The average accuracy with\", K, \"Fold Cross Validation is\", stats.mean(accuracy))\n",
        "# print(\"---------------------------------------------------------------------------------------------\")\n",
        "\n",
        "# print(\"Shuffle split :  In this method, number of splits = \", K,  \"will be generated and in each split, test size will be\", (1/K))\n",
        "\n",
        "# accuracy = []\n",
        "# cv = ShuffleSplit(n_splits=K, test_size=(float(1/K)), random_state=8)\n",
        "\n",
        "# for i, score in enumerate(cross_val_score(lr, x, y, cv=cv)):\n",
        "#   accuracy.append(score)\n",
        "\n",
        "# print(\"The average accuracy with\", K, \"Fold Shuffled Cross Validation is\", stats.mean(accuracy))\n",
        "# print(\"---------------------------------------------------------------------------------------------\")\n",
        "\n",
        "# print(\"Leave One Out corss validation : accuracy with leave one out validation\")\n",
        "# cv = LeaveOneOut()\n",
        "# #cv = ShuffleSplit(n_splits=x.shape[0], test_size=0.3, random_state=0)\n",
        "# for i, score in enumerate(cross_val_score(lr, x, y, cv=cv)):\n",
        "#   accuracy.append(score)\n",
        "\n",
        "# print(\"The average accuracy with Leave One Out Cross Validation is\", stats.mean(accuracy))\n"
      ],
      "execution_count": null,
      "outputs": [
        {
          "output_type": "stream",
          "name": "stdout",
          "text": [
            "Accuracy: 0.6228868660598179\n",
            "[[359   0  60   0]\n",
            " [128   0   0   0]\n",
            " [  0   0 120   0]\n",
            " [102   0   0   0]]\n",
            "              precision    recall  f1-score   support\n",
            "\n",
            "           1       0.61      0.86      0.71       419\n",
            "           2       0.00      0.00      0.00       128\n",
            "           3       0.67      1.00      0.80       120\n",
            "           4       0.00      0.00      0.00       102\n",
            "\n",
            "    accuracy                           0.62       769\n",
            "   macro avg       0.32      0.46      0.38       769\n",
            "weighted avg       0.44      0.62      0.51       769\n",
            "\n",
            "---------------------------------------------------------------------------------------------\n",
            "Shuffle split :  In this method, number of splits =  10 will be generated and in each split, test size will be 0.1 of the total dataset\n"
          ]
        },
        {
          "output_type": "stream",
          "name": "stderr",
          "text": [
            "/usr/local/lib/python3.7/dist-packages/sklearn/metrics/_classification.py:1308: UndefinedMetricWarning: Precision and F-score are ill-defined and being set to 0.0 in labels with no predicted samples. Use `zero_division` parameter to control this behavior.\n",
            "  _warn_prf(average, modifier, msg_start, len(result))\n",
            "/usr/local/lib/python3.7/dist-packages/sklearn/metrics/_classification.py:1308: UndefinedMetricWarning: Precision and F-score are ill-defined and being set to 0.0 in labels with no predicted samples. Use `zero_division` parameter to control this behavior.\n",
            "  _warn_prf(average, modifier, msg_start, len(result))\n",
            "/usr/local/lib/python3.7/dist-packages/sklearn/metrics/_classification.py:1308: UndefinedMetricWarning: Precision and F-score are ill-defined and being set to 0.0 in labels with no predicted samples. Use `zero_division` parameter to control this behavior.\n",
            "  _warn_prf(average, modifier, msg_start, len(result))\n"
          ]
        },
        {
          "output_type": "stream",
          "name": "stdout",
          "text": [
            "The average accuracy with 10 Fold Shuffled Cross Validation is 0.6104545454545455\n",
            "---------------------------------------------------------------------------------------------\n"
          ]
        }
      ]
    },
    {
      "cell_type": "markdown",
      "metadata": {
        "id": "nXn37OzN1YSD"
      },
      "source": [
        "**Random Forest**"
      ]
    },
    {
      "cell_type": "code",
      "metadata": {
        "id": "_D-W2MH6qEqi",
        "colab": {
          "base_uri": "https://localhost:8080/",
          "height": 746
        },
        "outputId": "26d3a74d-dede-4ac8-8266-caff76f5ca10"
      },
      "source": [
        "rf_accuracy = []\n",
        "x_axis = []\n",
        "max_accuracy = 0\n",
        "max_accuracy_depth = 0\n",
        "for i in range(1,26):\n",
        "  rf = RandomForestClassifier(max_depth = i,random_state = 0)\n",
        "  rf.fit(x_train,y_train)\n",
        "\n",
        "  yp_test = rf.predict(x_test)\n",
        "  rf_accuracy.append(metrics.accuracy_score(y_test, yp_test))\n",
        "  print(\"Accuracy for depth = \", i, \" : \", metrics.accuracy_score(y_test, yp_test))\n",
        "  if(metrics.accuracy_score(y_test, yp_test) > max_accuracy):\n",
        "    max_accuracy_depth = i\n",
        "    max_accuracy = metrics.accuracy_score(y_test, yp_test)\n",
        "  x_axis.append(i)\n",
        "\n",
        "\n",
        "print(\"The maximum accuracy = \", max_accuracy, \"here can be found at tree depth = \", max_accuracy_depth)\n",
        " \n",
        "# importing the required module \n",
        "plt.plot(x_axis, rf_accuracy)\n",
        "\n",
        "plt.xlabel('Tree Depth')\n",
        "plt.ylabel('Accuracy')\n",
        "plt.title('Tree Depth vs Accuracy graph for random forest.')\n",
        " \n",
        "plt.show()\n",
        "\n"
      ],
      "execution_count": null,
      "outputs": [
        {
          "output_type": "stream",
          "name": "stdout",
          "text": [
            "Accuracy for depth =  1  :  0.5448634590377113\n",
            "Accuracy for depth =  2  :  0.5448634590377113\n",
            "Accuracy for depth =  3  :  0.8478543563068921\n",
            "Accuracy for depth =  4  :  0.9544863459037711\n",
            "Accuracy for depth =  5  :  0.9544863459037711\n",
            "Accuracy for depth =  6  :  0.9856957087126138\n",
            "Accuracy for depth =  7  :  0.988296488946684\n",
            "Accuracy for depth =  8  :  0.9947984395318595\n",
            "Accuracy for depth =  9  :  0.9947984395318595\n",
            "Accuracy for depth =  10  :  0.9960988296488946\n",
            "Accuracy for depth =  11  :  0.9947984395318595\n",
            "Accuracy for depth =  12  :  0.9947984395318595\n",
            "Accuracy for depth =  13  :  0.9934980494148244\n",
            "Accuracy for depth =  14  :  0.9934980494148244\n",
            "Accuracy for depth =  15  :  0.9934980494148244\n",
            "Accuracy for depth =  16  :  0.9934980494148244\n",
            "Accuracy for depth =  17  :  0.9934980494148244\n",
            "Accuracy for depth =  18  :  0.9934980494148244\n",
            "Accuracy for depth =  19  :  0.9934980494148244\n",
            "Accuracy for depth =  20  :  0.9934980494148244\n",
            "Accuracy for depth =  21  :  0.9934980494148244\n",
            "Accuracy for depth =  22  :  0.9934980494148244\n",
            "Accuracy for depth =  23  :  0.9934980494148244\n",
            "Accuracy for depth =  24  :  0.9934980494148244\n",
            "Accuracy for depth =  25  :  0.9934980494148244\n",
            "The maximum accuracy =  0.9960988296488946 here can be found at tree depth =  10\n"
          ]
        },
        {
          "output_type": "display_data",
          "data": {
            "image/png": "[encoded data removed]",
            "text/plain": [
              "<Figure size 432x288 with 1 Axes>"
            ]
          },
          "metadata": {
            "needs_background": "light"
          }
        }
      ]
    },
    {
      "cell_type": "code",
      "metadata": {
        "id": "kjo6vxV-xg3T",
        "colab": {
          "base_uri": "https://localhost:8080/"
        },
        "outputId": "d2648737-449f-4cb9-d31d-4400bfa0a720"
      },
      "source": [
        "# Keeping max_depth = 9, since we are getting maximum accuracy at that depth.\n",
        "# for max_depth > 9 we get less accuracy because of overfitting.\n",
        "\n",
        "rf = RandomForestClassifier(n_estimators=50, max_features = 6, criterion = 'entropy', max_depth = max_accuracy_depth,random_state = 48)\n",
        "rf.fit(x_train,y_train)\n",
        "\n",
        "yp_train = rf.predict(x_train)\n",
        "yp_test = rf.predict(x_test)\n",
        "\n",
        "\n",
        "print(\"Accuracy:\",metrics.accuracy_score(y_test, yp_test))\n",
        "print(confusion_matrix(y_test,yp_test))\n",
        "print(classification_report(y_test,yp_test))\n",
        "# evaluation_parametrics(y_train,yp_train,y_test,yp_test)\n",
        "validation(rf, x, y)"
      ],
      "execution_count": null,
      "outputs": [
        {
          "output_type": "stream",
          "name": "stdout",
          "text": [
            "Accuracy: 0.9986996098829649\n",
            "[[418   0   1   0]\n",
            " [  0 128   0   0]\n",
            " [  0   0 120   0]\n",
            " [  0   0   0 102]]\n",
            "              precision    recall  f1-score   support\n",
            "\n",
            "           1       1.00      1.00      1.00       419\n",
            "           2       1.00      1.00      1.00       128\n",
            "           3       0.99      1.00      1.00       120\n",
            "           4       1.00      1.00      1.00       102\n",
            "\n",
            "    accuracy                           1.00       769\n",
            "   macro avg       1.00      1.00      1.00       769\n",
            "weighted avg       1.00      1.00      1.00       769\n",
            "\n",
            "---------------------------------------------------------------------------------------------\n",
            "Shuffle split :  In this method, number of splits =  10 will be generated and in each split, test size will be 0.1 of the total dataset\n",
            "The average accuracy with 10 Fold Shuffled Cross Validation is 0.9986363636363637\n",
            "---------------------------------------------------------------------------------------------\n"
          ]
        }
      ]
    },
    {
      "cell_type": "markdown",
      "metadata": {
        "id": "Rm1AOPNbxCVP"
      },
      "source": [
        "In above classification technique although we get "
      ]
    },
    {
      "cell_type": "code",
      "metadata": {
        "id": "QtpODg8T1ciV",
        "colab": {
          "base_uri": "https://localhost:8080/"
        },
        "outputId": "becd64ed-2df6-45c1-c671-23bfa80c9ca7"
      },
      "source": [
        "from sklearn.neighbors import KNeighborsClassifier\n",
        "# The number of parallel jobs to run for neighbors search.\n",
        "# None means 1 unless in a joblib.parallel_backend context.\n",
        "# -1 means using all processors.\n",
        "knn=KNeighborsClassifier(n_jobs=-1)\n",
        "knn.fit(x_train,y_train)\n",
        "\n",
        "# yp_train = rf.predict(x_train)\n",
        "yp_test = rf.predict(x_test)\n",
        "\n",
        "\n",
        "print(\"Accuracy:\",metrics.accuracy_score(y_test, yp_test))\n",
        "print(confusion_matrix(y_test,yp_test))\n",
        "print(classification_report(y_test,yp_test))\n",
        "validation(knn, x, y)"
      ],
      "execution_count": null,
      "outputs": [
        {
          "output_type": "stream",
          "name": "stdout",
          "text": [
            "Accuracy: 0.9986996098829649\n",
            "[[418   0   1   0]\n",
            " [  0 128   0   0]\n",
            " [  0   0 120   0]\n",
            " [  0   0   0 102]]\n",
            "              precision    recall  f1-score   support\n",
            "\n",
            "           1       1.00      1.00      1.00       419\n",
            "           2       1.00      1.00      1.00       128\n",
            "           3       0.99      1.00      1.00       120\n",
            "           4       1.00      1.00      1.00       102\n",
            "\n",
            "    accuracy                           1.00       769\n",
            "   macro avg       1.00      1.00      1.00       769\n",
            "weighted avg       1.00      1.00      1.00       769\n",
            "\n",
            "---------------------------------------------------------------------------------------------\n",
            "Shuffle split :  In this method, number of splits =  10 will be generated and in each split, test size will be 0.1 of the total dataset\n",
            "The average accuracy with 10 Fold Shuffled Cross Validation is 0.9559090909090909\n",
            "---------------------------------------------------------------------------------------------\n"
          ]
        }
      ]
    },
    {
      "cell_type": "markdown",
      "metadata": {
        "id": "nTWoZ7Txkhey"
      },
      "source": [
        "**XGBOOST**"
      ]
    },
    {
      "cell_type": "code",
      "metadata": {
        "id": "DqCR9pLKzwxY",
        "colab": {
          "base_uri": "https://localhost:8080/",
          "height": 746
        },
        "outputId": "2858cc20-7dd8-4aa3-dcd4-4cc0c0ac41f1"
      },
      "source": [
        "xgb_accuracy = []\n",
        "x_axis = []\n",
        "max_accuracy = 0\n",
        "max_accuracy_depth = 0\n",
        "for i in range(1,26):\n",
        "  xgb_classifier = xgb.XGBClassifier(max_depth=i)\n",
        "  xgb_classifier.fit(x_train, y_train)\n",
        "  preds = xgb_classifier.predict(x_test)\n",
        "  print(\"Accuracy for depth = \", i, \" : \", metrics.accuracy_score(y_test, preds))\n",
        "  if(metrics.accuracy_score(y_test, preds) > max_accuracy):\n",
        "    max_accuracy_depth = i\n",
        "    max_accuracy = metrics.accuracy_score(y_test, preds)\n",
        "  xgb_accuracy.append(metrics.accuracy_score(y_test, preds))\n",
        "  x_axis.append(i)\n",
        "\n",
        "print(\"The maximum accuracy = \", max_accuracy, \"here can be found at tree depth = \", max_accuracy_depth)\n",
        "\n",
        "############ Plot #############\n",
        "plt.plot(x_axis, xgb_accuracy)\n",
        "plt.xlabel('Tree Depth')\n",
        "plt.ylabel('Accuracy')\n",
        "plt.title('Tree Depth vs Accuracy graph for XGBoost.')\n",
        " \n",
        "plt.show()"
      ],
      "execution_count": null,
      "outputs": [
        {
          "output_type": "stream",
          "name": "stdout",
          "text": [
            "Accuracy for depth =  1  :  0.8504551365409623\n",
            "Accuracy for depth =  2  :  0.9856957087126138\n",
            "Accuracy for depth =  3  :  0.9856957087126138\n",
            "Accuracy for depth =  4  :  0.9934980494148244\n",
            "Accuracy for depth =  5  :  0.9947984395318595\n",
            "Accuracy for depth =  6  :  0.9960988296488946\n",
            "Accuracy for depth =  7  :  0.9960988296488946\n",
            "Accuracy for depth =  8  :  0.9960988296488946\n",
            "Accuracy for depth =  9  :  0.9960988296488946\n",
            "Accuracy for depth =  10  :  0.9960988296488946\n",
            "Accuracy for depth =  11  :  0.9960988296488946\n",
            "Accuracy for depth =  12  :  0.9960988296488946\n",
            "Accuracy for depth =  13  :  0.9960988296488946\n",
            "Accuracy for depth =  14  :  0.9960988296488946\n",
            "Accuracy for depth =  15  :  0.9960988296488946\n",
            "Accuracy for depth =  16  :  0.9960988296488946\n",
            "Accuracy for depth =  17  :  0.9960988296488946\n",
            "Accuracy for depth =  18  :  0.9960988296488946\n",
            "Accuracy for depth =  19  :  0.9960988296488946\n",
            "Accuracy for depth =  20  :  0.9960988296488946\n",
            "Accuracy for depth =  21  :  0.9960988296488946\n",
            "Accuracy for depth =  22  :  0.9960988296488946\n",
            "Accuracy for depth =  23  :  0.9960988296488946\n",
            "Accuracy for depth =  24  :  0.9960988296488946\n",
            "Accuracy for depth =  25  :  0.9960988296488946\n",
            "The maximum accuracy =  0.9960988296488946 here can be found at tree depth =  6\n"
          ]
        },
        {
          "output_type": "display_data",
          "data": {
            "image/png": "[encoded data removed]",
            "text/plain": [
              "<Figure size 432x288 with 1 Axes>"
            ]
          },
          "metadata": {
            "needs_background": "light"
          }
        }
      ]
    },
    {
      "cell_type": "code",
      "metadata": {
        "id": "muGU-xKKkgni",
        "colab": {
          "base_uri": "https://localhost:8080/"
        },
        "outputId": "7053257a-7092-480b-d953-67babfc5860f"
      },
      "source": [
        "# !pip install xgboost\n",
        "xgb_classifier = xgb.XGBClassifier(max_depth=max_accuracy_depth)\n",
        "# here max depth is set to 5 since that is the depth we get from above graph.\n",
        "\n",
        "# Fit\n",
        "xgb_classifier.fit(x_train, y_train)\n",
        "\n",
        "# Predict\n",
        "preds = xgb_classifier.predict(x_test)\n",
        "\n",
        "print(\"Accuracy:\",metrics.accuracy_score(y_test, preds))\n",
        "print(confusion_matrix(y_test, preds))\n",
        "print(classification_report(y_test, preds))\n",
        "validation(xgb_classifier, x, y)"
      ],
      "execution_count": null,
      "outputs": [
        {
          "output_type": "stream",
          "name": "stdout",
          "text": [
            "Accuracy: 0.9960988296488946\n",
            "[[418   0   1   0]\n",
            " [  0 126   0   2]\n",
            " [  0   0 120   0]\n",
            " [  0   0   0 102]]\n",
            "              precision    recall  f1-score   support\n",
            "\n",
            "           1       1.00      1.00      1.00       419\n",
            "           2       1.00      0.98      0.99       128\n",
            "           3       0.99      1.00      1.00       120\n",
            "           4       0.98      1.00      0.99       102\n",
            "\n",
            "    accuracy                           1.00       769\n",
            "   macro avg       0.99      1.00      0.99       769\n",
            "weighted avg       1.00      1.00      1.00       769\n",
            "\n",
            "---------------------------------------------------------------------------------------------\n",
            "Shuffle split :  In this method, number of splits =  10 will be generated and in each split, test size will be 0.1 of the total dataset\n",
            "The average accuracy with 10 Fold Shuffled Cross Validation is 0.9981818181818182\n",
            "---------------------------------------------------------------------------------------------\n"
          ]
        }
      ]
    },
    {
      "cell_type": "markdown",
      "metadata": {
        "id": "X4Gd5dFx2Bbs"
      },
      "source": [
        "Here the problem remains the same since for class 3 and 4 precision remain low, 0.92 and 0.81 respectively."
      ]
    },
    {
      "cell_type": "markdown",
      "metadata": {
        "id": "n2GeyoXi9EkW"
      },
      "source": [
        "We have to use sampling methods to rectify error in minority classes.\n",
        "Since we have small data set with only 1728 samples there is no run time constrain. so, we'll avoide under sampling methods\n",
        "\n",
        "ADASYN focuses on generating samples next to the original samples\n",
        "which are wrongly classified using a k-Nearest Neighbors classifier while the\n",
        "basic implementation of SMOTE will not make any distinction between easy\n",
        "and hard samples to be classified using the nearest neighbors rule."
      ]
    },
    {
      "cell_type": "markdown",
      "metadata": {
        "id": "-QdTwuvm-MV1"
      },
      "source": [
        "**ADASYN**"
      ]
    },
    {
      "cell_type": "markdown",
      "metadata": {
        "id": "HDqU3IVhB5Td"
      },
      "source": [
        "resampling of x and y."
      ]
    },
    {
      "cell_type": "code",
      "metadata": {
        "id": "fitJTYwg2SQ1"
      },
      "source": [
        "from imblearn.over_sampling import ADASYN\n",
        "oversample = ADASYN()\n",
        "# print(len(y))\n",
        "x_resampled, y_resampled = oversample.fit_resample(x, y)\n",
        "# print(len(y_resampled))\n",
        "x_train_resampled, x_test_resampled, y_train_resampled, y_test_resampled = train_test_split(x_resampled, y_resampled, test_size = 0.35, random_state = 48)"
      ],
      "execution_count": null,
      "outputs": []
    },
    {
      "cell_type": "code",
      "metadata": {
        "id": "uu-0VmTxCzRS",
        "colab": {
          "base_uri": "https://localhost:8080/",
          "height": 818
        },
        "outputId": "fc94e1b0-55f3-4560-a838-52ccffbc09ed"
      },
      "source": [
        "xgb_accuracy_resampled = []\n",
        "x_axis = []\n",
        "max_accuracy = 0\n",
        "max_accuracy_depth = 0\n",
        "for i in range(1,10):\n",
        "  xgb_classifier = xgb.XGBClassifier(max_depth=i)\n",
        "  xgb_classifier.fit(x_train_resampled, y_train_resampled)\n",
        "  preds_resampled = xgb_classifier.predict(x_test_resampled)\n",
        "  xgb_accuracy_resampled.append(metrics.accuracy_score(y_test_resampled, preds_resampled))\n",
        "  print(\"Accuracy for depth = \", i, \" : \", metrics.accuracy_score(y_test_resampled, preds_resampled))\n",
        "  if(metrics.accuracy_score(y_test_resampled, preds_resampled) > max_accuracy):\n",
        "    max_accuracy_depth = i\n",
        "    max_accuracy = metrics.accuracy_score(y_test_resampled, preds_resampled)\n",
        "  x_axis.append(i)\n",
        "\n",
        "############## Plot ###########\n",
        "plt.plot(x_axis, xgb_accuracy_resampled)\n",
        "plt.xlabel('Tree Depth')\n",
        "plt.ylabel('Accuracy')\n",
        "plt.title('Tree Depth vs Accuracy graph for XGBoost on sampled data.') \n",
        "plt.show()\n",
        "\n",
        "print(\"The maximum accuracy = \", max_accuracy, \"here can be found at tree depth = \", max_accuracy_depth)\n",
        "######### Confusion matrix ##########\n",
        "print(confusion_matrix(y_test_resampled, preds_resampled))\n",
        "print(classification_report(y_test_resampled, preds_resampled))\n",
        "validation(xgb_classifier, x_resampled, y_resampled)\n"
      ],
      "execution_count": null,
      "outputs": [
        {
          "output_type": "stream",
          "name": "stdout",
          "text": [
            "Accuracy for depth =  1  :  0.9158208955223881\n",
            "Accuracy for depth =  2  :  0.9868656716417911\n",
            "Accuracy for depth =  3  :  0.9940298507462687\n",
            "Accuracy for depth =  4  :  0.9946268656716418\n",
            "Accuracy for depth =  5  :  0.9970149253731343\n",
            "Accuracy for depth =  6  :  0.9982089552238806\n",
            "Accuracy for depth =  7  :  0.9982089552238806\n",
            "Accuracy for depth =  8  :  0.9982089552238806\n",
            "Accuracy for depth =  9  :  0.9982089552238806\n"
          ]
        },
        {
          "output_type": "display_data",
          "data": {
            "image/png": "[encoded data removed]",
            "text/plain": [
              "<Figure size 432x288 with 1 Axes>"
            ]
          },
          "metadata": {
            "needs_background": "light"
          }
        },
        {
          "output_type": "stream",
          "name": "stdout",
          "text": [
            "The maximum accuracy =  0.9982089552238806 here can be found at tree depth =  6\n",
            "[[420   0   3   0]\n",
            " [  0 399   0   0]\n",
            " [  0   0 433   0]\n",
            " [  0   0   0 420]]\n",
            "              precision    recall  f1-score   support\n",
            "\n",
            "           1       1.00      0.99      1.00       423\n",
            "           2       1.00      1.00      1.00       399\n",
            "           3       0.99      1.00      1.00       433\n",
            "           4       1.00      1.00      1.00       420\n",
            "\n",
            "    accuracy                           1.00      1675\n",
            "   macro avg       1.00      1.00      1.00      1675\n",
            "weighted avg       1.00      1.00      1.00      1675\n",
            "\n",
            "---------------------------------------------------------------------------------------------\n",
            "Shuffle split :  In this method, number of splits =  10 will be generated and in each split, test size will be 0.1 of the total dataset\n",
            "The average accuracy with 10 Fold Shuffled Cross Validation is 0.9989561586638831\n",
            "---------------------------------------------------------------------------------------------\n"
          ]
        }
      ]
    },
    {
      "cell_type": "code",
      "metadata": {
        "id": "6ZDe9m4wB9pf",
        "colab": {
          "base_uri": "https://localhost:8080/"
        },
        "outputId": "203a24ff-a3e5-488a-d627-d04e0806f807"
      },
      "source": [
        "xgb_classifier = xgb.XGBClassifier(max_depth=max_accuracy_depth)\n",
        "# here max depth is set to 4 since that is the depth we get from above graph.\n",
        "\n",
        "# Fit\n",
        "xgb_classifier.fit(x_train_resampled, y_train_resampled)\n",
        "\n",
        "# Predict\n",
        "preds_resampled = xgb_classifier.predict(x_test_resampled)\n",
        "\n",
        "print(\"Accuracy:\",metrics.accuracy_score(y_test_resampled, preds_resampled))\n",
        "print(confusion_matrix(y_test_resampled, preds_resampled))\n",
        "print(classification_report(y_test_resampled, preds_resampled))\n",
        "\n",
        "print(\"__________predicting for original x using model trained on sampled data.___________________\")\n",
        "preds_resampled = xgb_classifier.predict(x)\n",
        "\n",
        "print(\"Accuracy:\",metrics.accuracy_score(y, preds_resampled))\n",
        "print(confusion_matrix(y, preds_resampled))\n",
        "print(classification_report(y, preds_resampled))\n",
        "\n",
        "print(\"__________predicting for original x_test using model trained on sampled data.___________________\")\n",
        "preds_resampled = xgb_classifier.predict(x_test)\n",
        "\n",
        "print(\"Accuracy:\",metrics.accuracy_score(y_test, preds_resampled))\n",
        "print(confusion_matrix(y_test, preds_resampled))\n",
        "print(classification_report(y_test, preds_resampled))\n",
        "\n",
        "validation(xgb_classifier, x_resampled, y_resampled)"
      ],
      "execution_count": null,
      "outputs": [
        {
          "output_type": "stream",
          "name": "stdout",
          "text": [
            "Accuracy: 0.9982089552238806\n",
            "[[420   0   3   0]\n",
            " [  0 399   0   0]\n",
            " [  0   0 433   0]\n",
            " [  0   0   0 420]]\n",
            "              precision    recall  f1-score   support\n",
            "\n",
            "           1       1.00      0.99      1.00       423\n",
            "           2       1.00      1.00      1.00       399\n",
            "           3       0.99      1.00      1.00       433\n",
            "           4       1.00      1.00      1.00       420\n",
            "\n",
            "    accuracy                           1.00      1675\n",
            "   macro avg       1.00      1.00      1.00      1675\n",
            "weighted avg       1.00      1.00      1.00      1675\n",
            "\n",
            "__________predicting for original x using model trained on sampled data.___________________\n",
            "Accuracy: 0.9986332574031891\n",
            "[[1207    0    3    0]\n",
            " [   0  384    0    0]\n",
            " [   0    0  325    0]\n",
            " [   0    0    0  276]]\n",
            "              precision    recall  f1-score   support\n",
            "\n",
            "           1       1.00      1.00      1.00      1210\n",
            "           2       1.00      1.00      1.00       384\n",
            "           3       0.99      1.00      1.00       325\n",
            "           4       1.00      1.00      1.00       276\n",
            "\n",
            "    accuracy                           1.00      2195\n",
            "   macro avg       1.00      1.00      1.00      2195\n",
            "weighted avg       1.00      1.00      1.00      2195\n",
            "\n",
            "__________predicting for original x_test using model trained on sampled data.___________________\n",
            "Accuracy: 0.9986996098829649\n",
            "[[418   0   1   0]\n",
            " [  0 128   0   0]\n",
            " [  0   0 120   0]\n",
            " [  0   0   0 102]]\n",
            "              precision    recall  f1-score   support\n",
            "\n",
            "           1       1.00      1.00      1.00       419\n",
            "           2       1.00      1.00      1.00       128\n",
            "           3       0.99      1.00      1.00       120\n",
            "           4       1.00      1.00      1.00       102\n",
            "\n",
            "    accuracy                           1.00       769\n",
            "   macro avg       1.00      1.00      1.00       769\n",
            "weighted avg       1.00      1.00      1.00       769\n",
            "\n",
            "---------------------------------------------------------------------------------------------\n",
            "Shuffle split :  In this method, number of splits =  10 will be generated and in each split, test size will be 0.1 of the total dataset\n",
            "The average accuracy with 10 Fold Shuffled Cross Validation is 0.9981210855949896\n",
            "---------------------------------------------------------------------------------------------\n"
          ]
        }
      ]
    },
    {
      "cell_type": "markdown",
      "metadata": {
        "id": "NquMQeRtEcr5"
      },
      "source": [
        "Here, accuracy is decreased from 98.26% in XGBoost to 97.22% including sampled data. but precission for minority classes has seen derastic increase because of sampling."
      ]
    },
    {
      "cell_type": "code",
      "metadata": {
        "id": "qqrAfrV3Fz8b",
        "colab": {
          "base_uri": "https://localhost:8080/",
          "height": 801
        },
        "outputId": "f58bd111-1544-464f-fae6-0f294187f946"
      },
      "source": [
        "from imblearn.over_sampling import SMOTE\n",
        "oversample = SMOTE()\n",
        "# print(len(y))\n",
        "x_resampled_smote, y_resampled_smote = oversample.fit_resample(x, y)\n",
        "# print(len(y_resampled))\n",
        "x_train_resampled_smote, x_test_resampled_smote, y_train_resampled_smote, y_test_resampled_smote = train_test_split(x_resampled_smote, y_resampled_smote, test_size = 0.35, random_state = 48)\n",
        "max_accuracy = 0\n",
        "max_accuracy_depth = 0\n",
        "xgb_accuracy_resampled_smote = []\n",
        "x_axis = []\n",
        "for i in range(1,10):\n",
        "  xgb_classifier = xgb.XGBClassifier(max_depth=i)\n",
        "  xgb_classifier.fit(x_train_resampled_smote, y_train_resampled_smote)\n",
        "  preds_resampled_smote = xgb_classifier.predict(x_test_resampled_smote)\n",
        "  xgb_accuracy_resampled_smote.append(metrics.accuracy_score(y_test_resampled_smote, preds_resampled_smote))\n",
        "  print(\"Accuracy for depth = \", i, \" : \", metrics.accuracy_score(y_test_resampled_smote, preds_resampled_smote))\n",
        "  if(metrics.accuracy_score(y_test_resampled_smote, preds_resampled_smote) > max_accuracy):\n",
        "    max_accuracy_depth = i\n",
        "    max_accuracy = metrics.accuracy_score(y_test_resampled_smote, preds_resampled_smote)\n",
        "  x_axis.append(i)\n",
        "\n",
        "############# Plot #########\n",
        "plt.plot(x_axis, xgb_accuracy_resampled_smote)\n",
        "plt.xlabel('Tree Depth')\n",
        "plt.ylabel('Accuracy')\n",
        "plt.title('Tree Depth vs Accuracy graph for XGBoost on sampled data.') \n",
        "plt.show()\n",
        "\n",
        "########### Confusion Matrix #########\n",
        "\n",
        "print(confusion_matrix(y_test_resampled_smote, preds_resampled_smote))\n",
        "print(classification_report(y_test_resampled_smote, preds_resampled_smote))\n",
        "validation(xgb_classifier, x_resampled_smote, y_resampled_smote)"
      ],
      "execution_count": null,
      "outputs": [
        {
          "output_type": "stream",
          "name": "stdout",
          "text": [
            "Accuracy for depth =  1  :  0.8772136953955135\n",
            "Accuracy for depth =  2  :  0.9899645808736718\n",
            "Accuracy for depth =  3  :  0.9952774498229043\n",
            "Accuracy for depth =  4  :  0.9952774498229043\n",
            "Accuracy for depth =  5  :  0.9970484061393152\n",
            "Accuracy for depth =  6  :  0.999409681227863\n",
            "Accuracy for depth =  7  :  0.999409681227863\n",
            "Accuracy for depth =  8  :  0.999409681227863\n",
            "Accuracy for depth =  9  :  0.999409681227863\n"
          ]
        },
        {
          "output_type": "display_data",
          "data": {
            "image/png": "[encoded data removed]",
            "text/plain": [
              "<Figure size 432x288 with 1 Axes>"
            ]
          },
          "metadata": {
            "needs_background": "light"
          }
        },
        {
          "output_type": "stream",
          "name": "stdout",
          "text": [
            "[[432   0   1   0]\n",
            " [  0 408   0   0]\n",
            " [  0   0 431   0]\n",
            " [  0   0   0 422]]\n",
            "              precision    recall  f1-score   support\n",
            "\n",
            "           1       1.00      1.00      1.00       433\n",
            "           2       1.00      1.00      1.00       408\n",
            "           3       1.00      1.00      1.00       431\n",
            "           4       1.00      1.00      1.00       422\n",
            "\n",
            "    accuracy                           1.00      1694\n",
            "   macro avg       1.00      1.00      1.00      1694\n",
            "weighted avg       1.00      1.00      1.00      1694\n",
            "\n",
            "---------------------------------------------------------------------------------------------\n",
            "Shuffle split :  In this method, number of splits =  10 will be generated and in each split, test size will be 0.1 of the total dataset\n",
            "The average accuracy with 10 Fold Shuffled Cross Validation is 1.0\n",
            "---------------------------------------------------------------------------------------------\n"
          ]
        }
      ]
    },
    {
      "cell_type": "code",
      "metadata": {
        "id": "3KLFKzMEUIAI",
        "colab": {
          "base_uri": "https://localhost:8080/"
        },
        "outputId": "9985c03a-a7f8-412e-cd7d-97b300ad5685"
      },
      "source": [
        "xgb_classifier = xgb.XGBClassifier(max_depth=max_accuracy_depth)\n",
        "# here max depth is set to 8 since that is the depth we get from above graph.\n",
        "\n",
        "# Fit\n",
        "xgb_classifier.fit(x_train_resampled, y_train_resampled)\n",
        "\n",
        "# Predict\n",
        "preds_resampled = xgb_classifier.predict(x_test_resampled)\n",
        "\n",
        "print(\"Accuracy:\",metrics.accuracy_score(y_test_resampled, preds_resampled))\n",
        "print(confusion_matrix(y_test_resampled, preds_resampled))\n",
        "print(classification_report(y_test_resampled, preds_resampled))\n",
        "\n",
        "print(\"__________predicting for original x using model trained on sampled data.___________________\")\n",
        "preds_resampled = xgb_classifier.predict(x)\n",
        "\n",
        "print(\"Accuracy:\",metrics.accuracy_score(y, preds_resampled))\n",
        "print(confusion_matrix(y, preds_resampled))\n",
        "print(classification_report(y, preds_resampled))\n",
        "\n",
        "print(\"__________predicting for original x_test using model trained on sampled data.___________________\")\n",
        "preds_resampled = xgb_classifier.predict(x_test)\n",
        "\n",
        "print(\"Accuracy:\",metrics.accuracy_score(y_test, preds_resampled))\n",
        "print(confusion_matrix(y_test, preds_resampled))\n",
        "print(classification_report(y_test, preds_resampled))\n",
        "\n",
        "validation(xgb_classifier, x_resampled, y_resampled)"
      ],
      "execution_count": null,
      "outputs": [
        {
          "output_type": "stream",
          "name": "stdout",
          "text": [
            "Accuracy: 0.9982089552238806\n",
            "[[420   0   3   0]\n",
            " [  0 399   0   0]\n",
            " [  0   0 433   0]\n",
            " [  0   0   0 420]]\n",
            "              precision    recall  f1-score   support\n",
            "\n",
            "           1       1.00      0.99      1.00       423\n",
            "           2       1.00      1.00      1.00       399\n",
            "           3       0.99      1.00      1.00       433\n",
            "           4       1.00      1.00      1.00       420\n",
            "\n",
            "    accuracy                           1.00      1675\n",
            "   macro avg       1.00      1.00      1.00      1675\n",
            "weighted avg       1.00      1.00      1.00      1675\n",
            "\n",
            "__________predicting for original x using model trained on sampled data.___________________\n",
            "Accuracy: 0.9986332574031891\n",
            "[[1207    0    3    0]\n",
            " [   0  384    0    0]\n",
            " [   0    0  325    0]\n",
            " [   0    0    0  276]]\n",
            "              precision    recall  f1-score   support\n",
            "\n",
            "           1       1.00      1.00      1.00      1210\n",
            "           2       1.00      1.00      1.00       384\n",
            "           3       0.99      1.00      1.00       325\n",
            "           4       1.00      1.00      1.00       276\n",
            "\n",
            "    accuracy                           1.00      2195\n",
            "   macro avg       1.00      1.00      1.00      2195\n",
            "weighted avg       1.00      1.00      1.00      2195\n",
            "\n",
            "__________predicting for original x_test using model trained on sampled data.___________________\n",
            "Accuracy: 0.9986996098829649\n",
            "[[418   0   1   0]\n",
            " [  0 128   0   0]\n",
            " [  0   0 120   0]\n",
            " [  0   0   0 102]]\n",
            "              precision    recall  f1-score   support\n",
            "\n",
            "           1       1.00      1.00      1.00       419\n",
            "           2       1.00      1.00      1.00       128\n",
            "           3       0.99      1.00      1.00       120\n",
            "           4       1.00      1.00      1.00       102\n",
            "\n",
            "    accuracy                           1.00       769\n",
            "   macro avg       1.00      1.00      1.00       769\n",
            "weighted avg       1.00      1.00      1.00       769\n",
            "\n",
            "---------------------------------------------------------------------------------------------\n",
            "Shuffle split :  In this method, number of splits =  10 will be generated and in each split, test size will be 0.1 of the total dataset\n",
            "The average accuracy with 10 Fold Shuffled Cross Validation is 0.9981210855949896\n",
            "---------------------------------------------------------------------------------------------\n"
          ]
        }
      ]
    },
    {
      "cell_type": "code",
      "metadata": {
        "id": "SJUw0S3vuMPX",
        "colab": {
          "base_uri": "https://localhost:8080/",
          "height": 1000
        },
        "outputId": "c56838a7-de2c-4f4a-f964-9ae1c238f9c3"
      },
      "source": [
        "### Grid Search CV #####\n",
        "from sklearn.model_selection import ShuffleSplit\n",
        "params = {\n",
        "        #'min_child_weight': [1, 5, 10],\n",
        "        #'gamma': [0.5, 1, 1.5, 2, 5],\n",
        "        #'subsample': [0.6, 0.7, 0.8],\n",
        "        #'colsample_bytree': [0.6, 0.8, 1.0],\n",
        "        'max_depth': [6, 7, 8],\n",
        "        'learning_rate': [0.01, 0.05, 0.1]\n",
        "        }\n",
        "xgb_classifier = xgb.XGBClassifier( objective='binary:logistic')\n",
        "cv = ShuffleSplit(n_splits=10, test_size=(float(1/10)), random_state=48)\n",
        "clf = GridSearchCV(estimator = xgb_classifier, param_grid=params, verbose=3, scoring = 'accuracy', cv=cv)\n",
        "clf.fit(x,y)\n",
        "\n",
        "print(clf.best_estimator_[0])\n",
        "print(clf.best_score_)\n",
        "\n"
      ],
      "execution_count": null,
      "outputs": [
        {
          "output_type": "stream",
          "name": "stdout",
          "text": [
            "Fitting 10 folds for each of 9 candidates, totalling 90 fits\n",
            "[CV 1/10] END ..learning_rate=0.01, max_depth=6;, score=0.982 total time=   0.4s\n",
            "[CV 2/10] END ..learning_rate=0.01, max_depth=6;, score=0.991 total time=   0.4s\n",
            "[CV 3/10] END ..learning_rate=0.01, max_depth=6;, score=0.995 total time=   0.4s\n",
            "[CV 4/10] END ..learning_rate=0.01, max_depth=6;, score=0.982 total time=   0.4s\n",
            "[CV 5/10] END ..learning_rate=0.01, max_depth=6;, score=0.986 total time=   0.4s\n",
            "[CV 6/10] END ..learning_rate=0.01, max_depth=6;, score=0.986 total time=   0.4s\n",
            "[CV 7/10] END ..learning_rate=0.01, max_depth=6;, score=0.995 total time=   0.4s\n",
            "[CV 8/10] END ..learning_rate=0.01, max_depth=6;, score=0.982 total time=   0.4s\n",
            "[CV 9/10] END ..learning_rate=0.01, max_depth=6;, score=0.977 total time=   0.4s\n",
            "[CV 10/10] END .learning_rate=0.01, max_depth=6;, score=0.995 total time=   0.4s\n",
            "[CV 1/10] END ..learning_rate=0.01, max_depth=7;, score=0.986 total time=   0.5s\n",
            "[CV 2/10] END ..learning_rate=0.01, max_depth=7;, score=0.991 total time=   0.4s\n",
            "[CV 3/10] END ..learning_rate=0.01, max_depth=7;, score=0.995 total time=   0.5s\n",
            "[CV 4/10] END ..learning_rate=0.01, max_depth=7;, score=0.982 total time=   0.4s\n",
            "[CV 5/10] END ..learning_rate=0.01, max_depth=7;, score=0.986 total time=   0.4s\n",
            "[CV 6/10] END ..learning_rate=0.01, max_depth=7;, score=0.995 total time=   0.4s\n",
            "[CV 7/10] END ..learning_rate=0.01, max_depth=7;, score=0.995 total time=   0.4s\n",
            "[CV 8/10] END ..learning_rate=0.01, max_depth=7;, score=0.982 total time=   0.4s\n",
            "[CV 9/10] END ..learning_rate=0.01, max_depth=7;, score=0.977 total time=   0.5s\n",
            "[CV 10/10] END .learning_rate=0.01, max_depth=7;, score=0.995 total time=   0.4s\n",
            "[CV 1/10] END ..learning_rate=0.01, max_depth=8;, score=0.986 total time=   0.5s\n",
            "[CV 2/10] END ..learning_rate=0.01, max_depth=8;, score=0.991 total time=   0.5s\n",
            "[CV 3/10] END ..learning_rate=0.01, max_depth=8;, score=0.986 total time=   0.5s\n",
            "[CV 4/10] END ..learning_rate=0.01, max_depth=8;, score=0.995 total time=   0.5s\n",
            "[CV 5/10] END ..learning_rate=0.01, max_depth=8;, score=0.991 total time=   0.5s\n",
            "[CV 6/10] END ..learning_rate=0.01, max_depth=8;, score=1.000 total time=   0.5s\n",
            "[CV 7/10] END ..learning_rate=0.01, max_depth=8;, score=0.991 total time=   0.5s\n",
            "[CV 8/10] END ..learning_rate=0.01, max_depth=8;, score=0.995 total time=   0.5s\n",
            "[CV 9/10] END ..learning_rate=0.01, max_depth=8;, score=0.991 total time=   0.5s\n",
            "[CV 10/10] END .learning_rate=0.01, max_depth=8;, score=0.995 total time=   0.5s\n",
            "[CV 1/10] END ..learning_rate=0.05, max_depth=6;, score=0.991 total time=   0.4s\n",
            "[CV 2/10] END ..learning_rate=0.05, max_depth=6;, score=0.995 total time=   0.4s\n",
            "[CV 3/10] END ..learning_rate=0.05, max_depth=6;, score=0.995 total time=   0.4s\n",
            "[CV 4/10] END ..learning_rate=0.05, max_depth=6;, score=0.991 total time=   0.4s\n",
            "[CV 5/10] END ..learning_rate=0.05, max_depth=6;, score=0.995 total time=   0.4s\n",
            "[CV 6/10] END ..learning_rate=0.05, max_depth=6;, score=1.000 total time=   0.4s\n",
            "[CV 7/10] END ..learning_rate=0.05, max_depth=6;, score=0.995 total time=   0.4s\n",
            "[CV 8/10] END ..learning_rate=0.05, max_depth=6;, score=0.991 total time=   0.4s\n",
            "[CV 9/10] END ..learning_rate=0.05, max_depth=6;, score=0.977 total time=   0.4s\n",
            "[CV 10/10] END .learning_rate=0.05, max_depth=6;, score=1.000 total time=   0.4s\n",
            "[CV 1/10] END ..learning_rate=0.05, max_depth=7;, score=0.991 total time=   0.5s\n",
            "[CV 2/10] END ..learning_rate=0.05, max_depth=7;, score=0.995 total time=   0.5s\n",
            "[CV 3/10] END ..learning_rate=0.05, max_depth=7;, score=0.995 total time=   0.5s\n",
            "[CV 4/10] END ..learning_rate=0.05, max_depth=7;, score=1.000 total time=   0.5s\n",
            "[CV 5/10] END ..learning_rate=0.05, max_depth=7;, score=0.995 total time=   0.5s\n",
            "[CV 6/10] END ..learning_rate=0.05, max_depth=7;, score=1.000 total time=   0.5s\n",
            "[CV 7/10] END ..learning_rate=0.05, max_depth=7;, score=0.995 total time=   0.5s\n",
            "[CV 8/10] END ..learning_rate=0.05, max_depth=7;, score=1.000 total time=   0.5s\n",
            "[CV 9/10] END ..learning_rate=0.05, max_depth=7;, score=0.995 total time=   0.5s\n",
            "[CV 10/10] END .learning_rate=0.05, max_depth=7;, score=1.000 total time=   0.5s\n",
            "[CV 1/10] END ..learning_rate=0.05, max_depth=8;, score=0.991 total time=   0.5s\n",
            "[CV 2/10] END ..learning_rate=0.05, max_depth=8;, score=0.995 total time=   0.5s\n",
            "[CV 3/10] END ..learning_rate=0.05, max_depth=8;, score=0.995 total time=   0.5s\n",
            "[CV 4/10] END ..learning_rate=0.05, max_depth=8;, score=1.000 total time=   0.5s\n",
            "[CV 5/10] END ..learning_rate=0.05, max_depth=8;, score=0.995 total time=   0.5s\n",
            "[CV 6/10] END ..learning_rate=0.05, max_depth=8;, score=1.000 total time=   0.5s\n",
            "[CV 7/10] END ..learning_rate=0.05, max_depth=8;, score=0.995 total time=   0.5s\n",
            "[CV 8/10] END ..learning_rate=0.05, max_depth=8;, score=1.000 total time=   0.5s\n",
            "[CV 9/10] END ..learning_rate=0.05, max_depth=8;, score=0.995 total time=   0.5s\n",
            "[CV 10/10] END .learning_rate=0.05, max_depth=8;, score=1.000 total time=   0.5s\n",
            "[CV 1/10] END ...learning_rate=0.1, max_depth=6;, score=0.995 total time=   0.4s\n",
            "[CV 2/10] END ...learning_rate=0.1, max_depth=6;, score=1.000 total time=   0.4s\n",
            "[CV 3/10] END ...learning_rate=0.1, max_depth=6;, score=1.000 total time=   0.4s\n",
            "[CV 4/10] END ...learning_rate=0.1, max_depth=6;, score=1.000 total time=   0.4s\n",
            "[CV 5/10] END ...learning_rate=0.1, max_depth=6;, score=0.995 total time=   0.4s\n",
            "[CV 6/10] END ...learning_rate=0.1, max_depth=6;, score=1.000 total time=   0.4s\n",
            "[CV 7/10] END ...learning_rate=0.1, max_depth=6;, score=1.000 total time=   0.4s\n",
            "[CV 8/10] END ...learning_rate=0.1, max_depth=6;, score=1.000 total time=   0.4s\n",
            "[CV 9/10] END ...learning_rate=0.1, max_depth=6;, score=0.995 total time=   0.4s\n",
            "[CV 10/10] END ..learning_rate=0.1, max_depth=6;, score=0.995 total time=   0.4s\n",
            "[CV 1/10] END ...learning_rate=0.1, max_depth=7;, score=0.995 total time=   0.4s\n",
            "[CV 2/10] END ...learning_rate=0.1, max_depth=7;, score=1.000 total time=   0.5s\n",
            "[CV 3/10] END ...learning_rate=0.1, max_depth=7;, score=1.000 total time=   0.5s\n",
            "[CV 4/10] END ...learning_rate=0.1, max_depth=7;, score=1.000 total time=   0.5s\n",
            "[CV 5/10] END ...learning_rate=0.1, max_depth=7;, score=0.995 total time=   0.5s\n",
            "[CV 6/10] END ...learning_rate=0.1, max_depth=7;, score=1.000 total time=   0.5s\n",
            "[CV 7/10] END ...learning_rate=0.1, max_depth=7;, score=1.000 total time=   0.5s\n",
            "[CV 8/10] END ...learning_rate=0.1, max_depth=7;, score=1.000 total time=   0.5s\n",
            "[CV 9/10] END ...learning_rate=0.1, max_depth=7;, score=0.995 total time=   0.4s\n",
            "[CV 10/10] END ..learning_rate=0.1, max_depth=7;, score=0.995 total time=   0.5s\n",
            "[CV 1/10] END ...learning_rate=0.1, max_depth=8;, score=0.995 total time=   0.5s\n",
            "[CV 2/10] END ...learning_rate=0.1, max_depth=8;, score=1.000 total time=   0.5s\n",
            "[CV 3/10] END ...learning_rate=0.1, max_depth=8;, score=1.000 total time=   0.5s\n",
            "[CV 4/10] END ...learning_rate=0.1, max_depth=8;, score=1.000 total time=   0.5s\n",
            "[CV 5/10] END ...learning_rate=0.1, max_depth=8;, score=0.995 total time=   0.5s\n",
            "[CV 6/10] END ...learning_rate=0.1, max_depth=8;, score=1.000 total time=   0.5s\n",
            "[CV 7/10] END ...learning_rate=0.1, max_depth=8;, score=1.000 total time=   0.5s\n",
            "[CV 8/10] END ...learning_rate=0.1, max_depth=8;, score=0.995 total time=   0.5s\n",
            "[CV 9/10] END ...learning_rate=0.1, max_depth=8;, score=0.995 total time=   0.5s\n",
            "[CV 10/10] END ..learning_rate=0.1, max_depth=8;, score=1.000 total time=   0.5s\n"
          ]
        },
        {
          "output_type": "error",
          "ename": "TypeError",
          "evalue": "ignored",
          "traceback": [
            "\u001b[0;31m---------------------------------------------------------------------------\u001b[0m",
            "\u001b[0;31mTypeError\u001b[0m                                 Traceback (most recent call last)",
            "\u001b[0;32m<ipython-input-33-5a660f914cf0>\u001b[0m in \u001b[0;36m<module>\u001b[0;34m()\u001b[0m\n\u001b[1;32m     14\u001b[0m \u001b[0mclf\u001b[0m\u001b[0;34m.\u001b[0m\u001b[0mfit\u001b[0m\u001b[0;34m(\u001b[0m\u001b[0mx\u001b[0m\u001b[0;34m,\u001b[0m\u001b[0my\u001b[0m\u001b[0;34m)\u001b[0m\u001b[0;34m\u001b[0m\u001b[0;34m\u001b[0m\u001b[0m\n\u001b[1;32m     15\u001b[0m \u001b[0;34m\u001b[0m\u001b[0m\n\u001b[0;32m---> 16\u001b[0;31m \u001b[0mprint\u001b[0m\u001b[0;34m(\u001b[0m\u001b[0mclf\u001b[0m\u001b[0;34m.\u001b[0m\u001b[0mbest_estimator_\u001b[0m\u001b[0;34m[\u001b[0m\u001b[0;36m0\u001b[0m\u001b[0;34m]\u001b[0m\u001b[0;34m)\u001b[0m\u001b[0;34m\u001b[0m\u001b[0;34m\u001b[0m\u001b[0m\n\u001b[0m\u001b[1;32m     17\u001b[0m \u001b[0mprint\u001b[0m\u001b[0;34m(\u001b[0m\u001b[0mclf\u001b[0m\u001b[0;34m.\u001b[0m\u001b[0mbest_score_\u001b[0m\u001b[0;34m)\u001b[0m\u001b[0;34m\u001b[0m\u001b[0;34m\u001b[0m\u001b[0m\n\u001b[1;32m     18\u001b[0m \u001b[0;34m\u001b[0m\u001b[0m\n",
            "\u001b[0;31mTypeError\u001b[0m: 'XGBClassifier' object is not subscriptable"
          ]
        }
      ]
    }
  ]
}